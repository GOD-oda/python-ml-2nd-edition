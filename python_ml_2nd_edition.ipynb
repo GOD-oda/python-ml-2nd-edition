{
  "nbformat": 4,
  "nbformat_minor": 0,
  "metadata": {
    "colab": {
      "name": "python-ml-2nd-edition.ipynb",
      "provenance": [],
      "collapsed_sections": [],
      "authorship_tag": "ABX9TyNHUY6lB5ktQlJgM5aiVGHR",
      "include_colab_link": true
    },
    "kernelspec": {
      "name": "python3",
      "display_name": "Python 3"
    }
  },
  "cells": [
    {
      "cell_type": "markdown",
      "metadata": {
        "id": "view-in-github",
        "colab_type": "text"
      },
      "source": [
        "<a href=\"https://colab.research.google.com/github/GOD-oda/python-ml-2nd-edition/blob/master/python_ml_2nd_edition.ipynb\" target=\"_parent\"><img src=\"https://colab.research.google.com/assets/colab-badge.svg\" alt=\"Open In Colab\"/></a>"
      ]
    },
    {
      "cell_type": "code",
      "metadata": {
        "id": "718dwuf2NLbo",
        "colab_type": "code",
        "colab": {}
      },
      "source": [
        "import pandas as pd\n",
        "import numpy as np\n",
        "import matplotlib.pyplot as plt"
      ],
      "execution_count": 0,
      "outputs": []
    },
    {
      "cell_type": "code",
      "metadata": {
        "id": "aX1XA5R0R-ol",
        "colab_type": "code",
        "colab": {}
      },
      "source": [
        "class Perceptron(object):\n",
        "    \"\"\"パーセプトロン分類器\n",
        "\n",
        "    パラメータ\n",
        "    -----------------------------------\n",
        "    eta : float\n",
        "        学習率=rate (0.0 < rate <= 1.0)\n",
        "    n_iter : int\n",
        "        トレーニングデータのトレニング回数\n",
        "    random_state : int\n",
        "        重みを初期化するための乱数シード\n",
        "\n",
        "    属性\n",
        "    -----------------------------------\n",
        "    w_ : 1次元配列\n",
        "        適合後の重み\n",
        "    errors_ : リスト\n",
        "        各エポックでの誤分類（更新）の数\n",
        "    \"\"\"\n",
        "    def __init__(self, eta=0.01, n_iter=50, random_state=1):\n",
        "        self.eta = eta\n",
        "        self.n_iter = n_iter\n",
        "        self.random_tate = random_state\n",
        "\n",
        "    def fit(self, x, y):\n",
        "        \"\"\"トレーニングデータに適合させる\n",
        "\n",
        "        :param x: 配列のようなデータ構造, shape = [n_samples, n_features]\n",
        "            n_samplesはサンプルの個数、n_featuresは特微量の個数\n",
        "        :param y: 配列のようなデータ構造, shape = [n_samples]\n",
        "            目的変数\n",
        "        :return: self\n",
        "        \"\"\"\n",
        "\n",
        "        rgen = np.random.RandomState(self.random_tate)\n",
        "        self.w_ = rgen.normal(loc=0.0, scale=0.01, size=1+x.shape[1])\n",
        "        self.errors_ = []\n",
        "\n",
        "        for _ in range(self.n_iter):\n",
        "            errors = 0\n",
        "            for xi, target in zip(x, y):\n",
        "                # 重み W1, ... , Wm の更新\n",
        "                update = self.eta * (target - self.predict(xi))\n",
        "                self.w_[1:] += update * xi\n",
        "                self.w_[0] += update\n",
        "                # 重みの更新が0でない場合は誤分類としてカウント\n",
        "                errors += int(update != 0.0)\n",
        "\n",
        "            self.errors_.append(errors)\n",
        "\n",
        "        return self\n",
        "\n",
        "    def net_input(self, x):\n",
        "        \"\"\"\n",
        "        総入力を計算\n",
        "        :param x:\n",
        "        :return:\n",
        "        \"\"\"\n",
        "        return np.dot(x, self.w_[1:]) + self.w_[0]\n",
        "\n",
        "    def predict(self, x):\n",
        "        \"\"\"\n",
        "        1ステップ後のくらすらべるを返す\n",
        "        :param x:\n",
        "        :return:\n",
        "        \"\"\"\n",
        "        return np.where(self.net_input(x) >= 0.0, 1, -1)"
      ],
      "execution_count": 0,
      "outputs": []
    },
    {
      "cell_type": "code",
      "metadata": {
        "id": "L_Jk-oC2R3zW",
        "colab_type": "code",
        "colab": {}
      },
      "source": [
        "df = pd.read_csv('https://archive.ics.uci.edu/ml/'\n",
        "                 'machine-learning-databases/iris/iris.data', header=None)\n",
        "#df.tail()"
      ],
      "execution_count": 0,
      "outputs": []
    },
    {
      "cell_type": "code",
      "metadata": {
        "id": "3cBf4Rl2R_dp",
        "colab_type": "code",
        "colab": {
          "base_uri": "https://localhost:8080/",
          "height": 279
        },
        "outputId": "29bca5ec-4f3c-4919-9a79-75adc9333e12"
      },
      "source": [
        "y = df.iloc[0:100, 4].values\n",
        "# Iris-setosaを-1、Iris-versicolorを1に変換する\n",
        "y = np.where(y == 'Iris-setosa', -1, 1)\n",
        "# 萼片の長さ(1列目)と花弁の長さ(3連爪)を抽出\n",
        "x = df.iloc[0:100, [0, 2]].values\n",
        "plt.scatter(x[:50, 0], x[:50, 1], color='red', marker='o', label='setosa')\n",
        "plt.scatter(x[50:100, 0], x[50:100, 1], color='blue', marker='x', label='versicolor')\n",
        "# x軸ラベルの設定\n",
        "plt.xlabel('sepal length [cm]')\n",
        "# y軸ラベルの設定\n",
        "plt.ylabel('petal length [cm]')\n",
        "# 凡例の設定\n",
        "plt.legend(loc='upper left')\n",
        "# 図の表示\n",
        "plt.show()"
      ],
      "execution_count": 107,
      "outputs": [
        {
          "output_type": "display_data",
          "data": {
            "image/png": "[encoded data removed]",
            "text/plain": [
              "<Figure size 432x288 with 1 Axes>"
            ]
          },
          "metadata": {
            "tags": [],
            "needs_background": "light"
          }
        }
      ]
    },
    {
      "cell_type": "code",
      "metadata": {
        "id": "LCMxK5STSbMq",
        "colab_type": "code",
        "colab": {
          "base_uri": "https://localhost:8080/",
          "height": 279
        },
        "outputId": "a26322cc-da69-4409-a2da-4de3082141a8"
      },
      "source": [
        "ppn = Perceptron(eta=0.1, n_iter=10)\n",
        "ppn.fit(x, y)\n",
        "plt.plot(range(1, len(ppn.errors_) + 1), ppn.errors_, marker='o')\n",
        "plt.xlabel('Eplochs')\n",
        "plt.ylabel('Number of update')\n",
        "plt.show()"
      ],
      "execution_count": 108,
      "outputs": [
        {
          "output_type": "display_data",
          "data": {
            "image/png": "[encoded data removed]",
            "text/plain": [
              "<Figure size 432x288 with 1 Axes>"
            ]
          },
          "metadata": {
            "tags": [],
            "needs_background": "light"
          }
        }
      ]
    },
    {
      "cell_type": "code",
      "metadata": {
        "id": "b5jkUBotU6Ym",
        "colab_type": "code",
        "colab": {
          "base_uri": "https://localhost:8080/",
          "height": 280
        },
        "outputId": "92fe9455-e0d6-4f0f-c7b4-c7f6bf8dbf5d"
      },
      "source": [
        "from matplotlib.colors import ListedColormap\n",
        "\n",
        "def plot_decision_regions(x, y, classifier, resolution=0.02):\n",
        "  markers = ('s', 'x', 'o', '^', 'v')\n",
        "  colors = ('red', 'blue', 'lightgreen ', 'gray', 'cyan')\n",
        "  cmap = ListedColormap(colors[:len(np.unique(y))])\n",
        "\n",
        "  # 決定領域のプロット\n",
        "  x1_main, x1_max = x[:, 0].min() - 1, x[:, 0].max() + 1\n",
        "  x2_main, x2_max = x[:, 1].min() - 1, x[:, 1].max() + 1\n",
        "  # グリッドポイントのプロット\n",
        "  xx1, xx2 = np.meshgrid(np.arange(x1_main, x1_max, resolution),\n",
        "                         np.arange(x2_main, x2_max, resolution))\n",
        "  # 各特微量を1次元配列に変換して予測を実行\n",
        "  z = classifier.predict(np.array([xx1.ravel(), xx2.ravel()]).T)\n",
        "  # 予測結果を元にグリッドポイントのデータサイズに変換\n",
        "  z = z.reshape(xx1.shape)\n",
        "  # グリッドポイントの等高線のプロット\n",
        "  plt.contourf(xx1, xx2, z, alpha=0.3, cmap=cmap)\n",
        "  # 軸の範囲設定\n",
        "  plt.xlim(xx1.min(), xx1.max())\n",
        "  plt.ylim(xx2.min(), xx2.max())\n",
        "\n",
        "  # クラスごとにプロット\n",
        "  for idx, cl in enumerate(np.unique(y)):\n",
        "    plt.scatter(x=x[y == cl, 0],\n",
        "                y=x[y == cl, 1],\n",
        "                alpha=0.8,\n",
        "                c=colors[idx],\n",
        "                marker=markers[idx],\n",
        "                label=cl,\n",
        "                edgecolor='black')\n",
        "    \n",
        "# 決定領域のプロット\n",
        "plot_decision_regions(x, y, classifier=ppn)\n",
        "plt.xlabel('sepal length [cm]')\n",
        "plt.ylabel('petal length [cm]')\n",
        "plt.legend(loc='upper left')\n",
        "plt.show()"
      ],
      "execution_count": 109,
      "outputs": [
        {
          "output_type": "display_data",
          "data": {
            "image/png": "[encoded data removed]",
            "text/plain": [
              "<Figure size 432x288 with 1 Axes>"
            ]
          },
          "metadata": {
            "tags": [],
            "needs_background": "light"
          }
        }
      ]
    },
    {
      "cell_type": "code",
      "metadata": {
        "id": "ic0H5Z6QdIzM",
        "colab_type": "code",
        "colab": {}
      },
      "source": [
        "class AdalineGD(object):\n",
        "    def __init__(self, eta=0.01, n_iter=50, shuffle=True, random_state=1):\n",
        "        \"\"\"\n",
        "        \n",
        "        :param eta: 学習率=rate (0.0 < rate <= 1.0)\n",
        "        :param n_iter: トレーニングデータのトレニング回数\n",
        "        :param random_state: 重みを初期化するための乱数シード\n",
        "        \"\"\"\n",
        "        self.random_state = random_state\n",
        "        self.n_iter = n_iter\n",
        "        self.eta = eta\n",
        "        self.w_initialized = False\n",
        "        self.shuffle = shuffle\n",
        "\n",
        "    def fit(self, x, y):\n",
        "        self._initialize_weights(x.shape[1])\n",
        "        # rgen = np.random.RandomState(self.random_state)\n",
        "        # self.w_ = rgen.normal(loc=0.0, scale=0.01, size=1 + x.shape[1])\n",
        "        self.cost_ = []\n",
        "        \n",
        "        for i in range(self.n_iter):\n",
        "            if self.shuffle:\n",
        "              x, y = self._shuffle(x, y)\n",
        "\n",
        "            cost = []\n",
        "            for xi, target in zip(x, y):\n",
        "              cost.append(self._update_weights(xi, target))\n",
        "\n",
        "            avg_cost = sum(cost) / len(y)\n",
        "            self.cost_.append(avg_cost)\n",
        "\n",
        "            # net_input = self.net_input(x)\n",
        "            # output = self.activation(net_input)\n",
        "            # errors = (y - output)\n",
        "            \n",
        "            # self.w_[1:] += self.eta * x.T.dot(errors)\n",
        "            # self.w_[0] += self.eta * errors.sum()\n",
        "            # cost = (errors ** 2).sum() / 2.0\n",
        "            # self.cost_.append(cost)\n",
        "            \n",
        "        return self\n",
        "    \n",
        "    def partial_fit(self, x, y):\n",
        "      if not self.w_initialized:\n",
        "        self._initialize_weights(x.shape[1])\n",
        "      \n",
        "      if y.ravel().shape[0] > 1:\n",
        "        for xi, trget in zip(x, y):\n",
        "          self._update_weights(xi, target)\n",
        "      else:\n",
        "        self._update_weights(x, y)\n",
        "\n",
        "      return self\n",
        "\n",
        "    def _shuffle(self, x, y):\n",
        "      r = self.rgen.permutation(len(y))\n",
        "\n",
        "      return x[r], y[r]\n",
        "\n",
        "    def _initialize_weights(self, m):\n",
        "      self.rgen = np.random.RandomState(self.random_state)\n",
        "      self.w_ = self.rgen.normal(loc=0.0, scale=0.01, size=1 + m)\n",
        "      self.w_initialized = True\n",
        "\n",
        "    def _update_weights(self, xi, target):\n",
        "      output = self.activation(self.net_input(xi))\n",
        "      error = (target - output)\n",
        "      self.w_[1:] += self.eta * xi.dot(error)\n",
        "      self.w_[0] += self.eta * error\n",
        "      cost = 0.5 * error ** 2\n",
        "\n",
        "      return cost\n",
        "\n",
        "    def net_input(self, x):\n",
        "        return np.dot(x, self.w_[1:]) + self.w_[0]\n",
        "    \n",
        "    def activation(self, x):\n",
        "        return x\n",
        "    \n",
        "    def predict(self, x):\n",
        "        return np.where(self.activation(self.net_input(x)) >= 0.0, 1, -1)\n",
        "    "
      ],
      "execution_count": 0,
      "outputs": []
    },
    {
      "cell_type": "code",
      "metadata": {
        "id": "il-ZCXdUhkhN",
        "colab_type": "code",
        "colab": {
          "base_uri": "https://localhost:8080/",
          "height": 297
        },
        "outputId": "ae8817b1-8a19-4298-d714-0c110f5b45d8"
      },
      "source": [
        "x_std = np.copy(x)\n",
        "x_std[:, 0] = (x[:, 0] - x[:, 0].mean()) / x[:, 0].std()\n",
        "x_std[:, 1] = (x[:, 1] - x[:, 1].mean()) / x[:, 1].std()\n",
        "\n",
        "ada = AdalineGD(n_iter=15, eta=0.01)\n",
        "ada.fit(x_std, y)\n",
        "\n",
        "plot_decision_regions(x_std, y, classifier=ada)\n",
        "\n",
        "plt.title('Adaline - Stochastic Gradient Descent')\n",
        "plt.xlabel('sepal length [standardized]')\n",
        "plt.ylabel('pepal length [standardized]')\n",
        "plt.legend(loc='upper left')\n",
        "\n",
        "plt.tight_layout()\n",
        "plt.show()"
      ],
      "execution_count": 111,
      "outputs": [
        {
          "output_type": "display_data",
          "data": {
            "image/png": "[encoded data removed]",
            "text/plain": [
              "<Figure size 432x288 with 1 Axes>"
            ]
          },
          "metadata": {
            "tags": [],
            "needs_background": "light"
          }
        }
      ]
    },
    {
      "cell_type": "code",
      "metadata": {
        "id": "XYOXFnmgiRXA",
        "colab_type": "code",
        "colab": {
          "base_uri": "https://localhost:8080/",
          "height": 297
        },
        "outputId": "a4526805-3006-4b69-e84a-f1bb1a048b66"
      },
      "source": [
        "plt.plot(range(1, len(ada.cost_) + 1), ada.cost_, marker='o')\n",
        "plt.xlabel('Epochs')\n",
        "plt.ylabel('Average Cost')\n",
        "plt.tight_layout()\n",
        "plt.show()"
      ],
      "execution_count": 112,
      "outputs": [
        {
          "output_type": "display_data",
          "data": {
            "image/png": "[encoded data removed]",
            "text/plain": [
              "<Figure size 432x288 with 1 Axes>"
            ]
          },
          "metadata": {
            "tags": [],
            "needs_background": "light"
          }
        }
      ]
    }
  ]
}